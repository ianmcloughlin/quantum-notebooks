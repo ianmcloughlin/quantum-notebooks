{
 "cells": [
  {
   "cell_type": "markdown",
   "metadata": {},
   "source": [
    "# Unitary Error Basis\n",
    "\n",
    "\n",
    "A set of $n^2$ orthonormal $n \\times n$ matrices with respect to the inner product $\\braket{A, B} = \\text{Tr}(A^\\dagger B)/n$.\n",
    "\n",
    "$\\text{Tr}(M)$ is the trace of the matrix $M$.\n",
    "\n",
    "$M^\\dagger$ is its conjugate transpose."
   ]
  },
  {
   "cell_type": "markdown",
   "metadata": {},
   "source": [
    "## Setup"
   ]
  },
  {
   "cell_type": "code",
   "execution_count": 1,
   "metadata": {},
   "outputs": [],
   "source": [
    "# Symbolic computation.\n",
    "import sympy as sp\n",
    "\n",
    "# Quantum sympy.\n",
    "import sympy.physics.quantum as qu"
   ]
  },
  {
   "cell_type": "code",
   "execution_count": 2,
   "metadata": {},
   "outputs": [],
   "source": [
    "# Unicode printing.\n",
    "sp.init_printing(use_unicode=True)"
   ]
  },
  {
   "cell_type": "markdown",
   "metadata": {},
   "source": [
    "## Example: Pauli Matrices\n",
    "\n",
    "$\\left\\{\\begin{bmatrix}\n",
    "  1 & 0 \\\\\n",
    "  0 & 1 \\\\\n",
    "\\end{bmatrix}, \\;\n",
    "\\begin{bmatrix}\n",
    "  0 & 1 \\\\\n",
    "  1 & 0 \\\\\n",
    "\\end{bmatrix}, \\\n",
    "\\begin{bmatrix}\n",
    "  1 & 0 \\\\\n",
    "  0 & -1 \\\\\n",
    "\\end{bmatrix}, \\\n",
    "\\begin{bmatrix}\n",
    "  0 & -i \\\\\n",
    "  i & 0 \\\\\n",
    "\\end{bmatrix}\\right\\}$\n",
    "\n"
   ]
  },
  {
   "cell_type": "code",
   "execution_count": 3,
   "metadata": {},
   "outputs": [
    {
     "data": {
      "image/png": "[encoded data removed]",
      "text/latex": [
       "$\\displaystyle \\left[\\begin{matrix}1 & 0\\\\0 & 1\\end{matrix}\\right]$"
      ],
      "text/plain": [
       "⎡1  0⎤\n",
       "⎢    ⎥\n",
       "⎣0  1⎦"
      ]
     },
     "execution_count": 3,
     "metadata": {},
     "output_type": "execute_result"
    }
   ],
   "source": [
    "# Identity.\n",
    "I = sp.Matrix([[1, 0], [0, 1]])\n",
    "\n",
    "# Show.\n",
    "I"
   ]
  },
  {
   "cell_type": "code",
   "execution_count": 4,
   "metadata": {},
   "outputs": [
    {
     "data": {
      "image/png": "[encoded data removed]",
      "text/latex": [
       "$\\displaystyle \\left[\\begin{matrix}0 & 1\\\\1 & 0\\end{matrix}\\right]$"
      ],
      "text/plain": [
       "⎡0  1⎤\n",
       "⎢    ⎥\n",
       "⎣1  0⎦"
      ]
     },
     "execution_count": 4,
     "metadata": {},
     "output_type": "execute_result"
    }
   ],
   "source": [
    "# X.\n",
    "X = sp.Matrix([[0, 1], [1, 0]])\n",
    "\n",
    "# Show.\n",
    "X"
   ]
  },
  {
   "cell_type": "code",
   "execution_count": 5,
   "metadata": {},
   "outputs": [
    {
     "data": {
      "image/png": "[encoded data removed]",
      "text/latex": [
       "$\\displaystyle \\left[\\begin{matrix}1 & 0\\\\0 & -1\\end{matrix}\\right]$"
      ],
      "text/plain": [
       "⎡1  0 ⎤\n",
       "⎢     ⎥\n",
       "⎣0  -1⎦"
      ]
     },
     "execution_count": 5,
     "metadata": {},
     "output_type": "execute_result"
    }
   ],
   "source": [
    "# Y.\n",
    "Y = sp.Matrix([[1, 0], [0, -1]])\n",
    "\n",
    "# Show.\n",
    "Y"
   ]
  },
  {
   "cell_type": "code",
   "execution_count": 6,
   "metadata": {},
   "outputs": [
    {
     "data": {
      "image/png": "[encoded data removed]",
      "text/latex": [
       "$\\displaystyle \\left[\\begin{matrix}0 & - 1.0 i\\\\1.0 i & 0\\end{matrix}\\right]$"
      ],
      "text/plain": [
       "⎡  0    -1.0⋅ⅈ⎤\n",
       "⎢             ⎥\n",
       "⎣1.0⋅ⅈ    0   ⎦"
      ]
     },
     "execution_count": 6,
     "metadata": {},
     "output_type": "execute_result"
    }
   ],
   "source": [
    "# Z.\n",
    "Z = sp.Matrix([[0, -1j], [1j, 0]])\n",
    "\n",
    "# Show.\n",
    "Z"
   ]
  },
  {
   "cell_type": "code",
   "execution_count": 7,
   "metadata": {},
   "outputs": [
    {
     "data": {
      "image/png": "[encoded data removed]",
      "text/latex": [
       "$\\displaystyle \\left[ \\left[\\begin{matrix}1 & 0\\\\0 & 1\\end{matrix}\\right], \\  \\left[\\begin{matrix}0 & 1\\\\1 & 0\\end{matrix}\\right], \\  \\left[\\begin{matrix}1 & 0\\\\0 & -1\\end{matrix}\\right], \\  \\left[\\begin{matrix}0 & - 1.0 i\\\\1.0 i & 0\\end{matrix}\\right]\\right]$"
      ],
      "text/plain": [
       "⎡⎡1  0⎤  ⎡0  1⎤  ⎡1  0 ⎤  ⎡  0    -1.0⋅ⅈ⎤⎤\n",
       "⎢⎢    ⎥, ⎢    ⎥, ⎢     ⎥, ⎢             ⎥⎥\n",
       "⎣⎣0  1⎦  ⎣1  0⎦  ⎣0  -1⎦  ⎣1.0⋅ⅈ    0   ⎦⎦"
      ]
     },
     "execution_count": 7,
     "metadata": {},
     "output_type": "execute_result"
    }
   ],
   "source": [
    "# Pauli matrices in a list.\n",
    "pauli = [I, X, Y, Z]\n",
    "\n",
    "# Show.\n",
    "pauli"
   ]
  },
  {
   "cell_type": "markdown",
   "metadata": {},
   "source": [
    "### Properties of Pauli Matrices"
   ]
  },
  {
   "cell_type": "code",
   "execution_count": 8,
   "metadata": {},
   "outputs": [
    {
     "data": {
      "image/png": "[encoded data removed]",
      "text/latex": [
       "$\\displaystyle \\left[\\begin{matrix}1.0 & 0\\\\0 & 1.0\\end{matrix}\\right]$"
      ],
      "text/plain": [
       "⎡1.0   0 ⎤\n",
       "⎢        ⎥\n",
       "⎣ 0   1.0⎦"
      ]
     },
     "execution_count": 8,
     "metadata": {},
     "output_type": "execute_result"
    }
   ],
   "source": [
    "# Square.\n",
    "Z * Z"
   ]
  },
  {
   "cell_type": "code",
   "execution_count": 9,
   "metadata": {},
   "outputs": [
    {
     "data": {
      "image/png": "[encoded data removed]",
      "text/latex": [
       "$\\displaystyle \\left[ \\left[\\begin{matrix}1 & 0\\\\0 & 1\\end{matrix}\\right], \\  \\left[\\begin{matrix}1 & 0\\\\0 & 1\\end{matrix}\\right], \\  \\left[\\begin{matrix}1 & 0\\\\0 & 1\\end{matrix}\\right], \\  \\left[\\begin{matrix}1.0 & 0\\\\0 & 1.0\\end{matrix}\\right]\\right]$"
      ],
      "text/plain": [
       "⎡⎡1  0⎤  ⎡1  0⎤  ⎡1  0⎤  ⎡1.0   0 ⎤⎤\n",
       "⎢⎢    ⎥, ⎢    ⎥, ⎢    ⎥, ⎢        ⎥⎥\n",
       "⎣⎣0  1⎦  ⎣0  1⎦  ⎣0  1⎦  ⎣ 0   1.0⎦⎦"
      ]
     },
     "execution_count": 9,
     "metadata": {},
     "output_type": "execute_result"
    }
   ],
   "source": [
    "[A**2 for A in pauli]"
   ]
  },
  {
   "cell_type": "code",
   "execution_count": 10,
   "metadata": {},
   "outputs": [
    {
     "data": {
      "image/png": "[encoded data removed]",
      "text/latex": [
       "$\\displaystyle \\left[ \\left[\\begin{matrix}1 & 0\\\\0 & 1\\end{matrix}\\right], \\  \\left[\\begin{matrix}0 & 1\\\\1 & 0\\end{matrix}\\right], \\  \\left[\\begin{matrix}1 & 0\\\\0 & -1\\end{matrix}\\right], \\  \\left[\\begin{matrix}0 & - 1.0 i\\\\1.0 i & 0\\end{matrix}\\right]\\right]$"
      ],
      "text/plain": [
       "⎡⎡1  0⎤  ⎡0  1⎤  ⎡1  0 ⎤  ⎡  0    -1.0⋅ⅈ⎤⎤\n",
       "⎢⎢    ⎥, ⎢    ⎥, ⎢     ⎥, ⎢             ⎥⎥\n",
       "⎣⎣0  1⎦  ⎣1  0⎦  ⎣0  -1⎦  ⎣1.0⋅ⅈ    0   ⎦⎦"
      ]
     },
     "execution_count": 10,
     "metadata": {},
     "output_type": "execute_result"
    }
   ],
   "source": [
    "# All Pauli - in an order.\n",
    "pauli = [I, X, Y, Z]\n",
    "\n",
    "# Show.\n",
    "pauli"
   ]
  },
  {
   "cell_type": "markdown",
   "metadata": {},
   "source": [
    "## Conjugate Transpose\n",
    "\n",
    "$A^\\dagger = A^\\text{H} = \\bar{A}^\\textsf{T}$\n",
    "\n",
    "$\\begin{bmatrix}\n",
    "  i & 2+i \\\\\\\\\n",
    "  1 & 3-2i \\\\\\\\\n",
    "\\end{bmatrix}^\\dagger  = \n",
    "\\begin{bmatrix}\n",
    "  -i & 1 \\\\\\\\\n",
    "  2-i & 3+2i \\\\\\\\\n",
    "\\end{bmatrix}$"
   ]
  },
  {
   "cell_type": "code",
   "execution_count": 11,
   "metadata": {},
   "outputs": [
    {
     "data": {
      "image/png": "[encoded data removed]",
      "text/latex": [
       "$\\displaystyle \\left[\\begin{matrix}0 & - 1.0 i\\\\1.0 i & 0\\end{matrix}\\right]$"
      ],
      "text/plain": [
       "⎡  0    -1.0⋅ⅈ⎤\n",
       "⎢             ⎥\n",
       "⎣1.0⋅ⅈ    0   ⎦"
      ]
     },
     "execution_count": 11,
     "metadata": {},
     "output_type": "execute_result"
    }
   ],
   "source": [
    "# Conjugate transpose.\n",
    "qu.Dagger(Z)"
   ]
  },
  {
   "cell_type": "markdown",
   "metadata": {},
   "source": [
    "## Trace\n",
    "\n",
    "$A = [a_{ij}]$\n",
    "\n",
    "$\\text{Tr}(A) = \\sum_i a_{ii}$\n",
    "\n",
    "$\\text{Tr}(A \\otimes B) = \\text{Tr}(A) \\text{Tr}(B)$\n",
    "\n",
    "$\\text{Tr}(A + B) = \\text{Tr}(A) + \\text{Tr}(B)$\n",
    "\n",
    "$\\text{Tr}(cA) = c\\text{Tr}(A)$\n",
    "\n",
    "$\\text{Tr}(A) = \\sum_i \\lambda_i$\n",
    "\n",
    "$\\text{Tr}(A) = c\\text{Tr}(A)$\n",
    "\n",
    "\n",
    "## Inner Product\n",
    "$A, B$: $n \\times n$ matrices.\n",
    "\n",
    "$\\langle A, B \\rangle = \\text{Tr}(A^\\dagger B) / n$\n"
   ]
  },
  {
   "cell_type": "code",
   "execution_count": 12,
   "metadata": {},
   "outputs": [
    {
     "data": {
      "image/png": "[encoded data removed]",
      "text/latex": [
       "$\\displaystyle 0$"
      ],
      "text/plain": [
       "0"
      ]
     },
     "execution_count": 12,
     "metadata": {},
     "output_type": "execute_result"
    }
   ],
   "source": [
    "# e.g. <X,Y>\n",
    "sp.Trace(X * qu.dagger.Dagger(Y)).simplify()"
   ]
  },
  {
   "cell_type": "markdown",
   "metadata": {},
   "source": [
    "\n",
    "## Orthogonality\n",
    "$A = \\begin{bmatrix}\n",
    "  0 & -i \\\\\n",
    "  i & 0 \\\\\n",
    "\\end{bmatrix}\\qquad B = \\begin{bmatrix}\n",
    "  1 & 0 \\\\\n",
    "  0 & -1 \\\\\n",
    "\\end{bmatrix}$\n",
    "\n",
    "$A^\\dagger  = \\begin{bmatrix}\n",
    "  0 & -i \\\\\n",
    "  i & 0 \\\\\n",
    "\\end{bmatrix}$ \n",
    "\n",
    "$A^\\dagger B = \\begin{bmatrix}\n",
    "  0 & -i \\\\\n",
    "  i & 0 \\\\\n",
    "\\end{bmatrix}\\begin{bmatrix}\n",
    "  1 & 0 \\\\\n",
    "  0 & -1 \\\\\n",
    "\\end{bmatrix}=\\begin{bmatrix}\n",
    "  0 & i \\\\\n",
    "  i & 0 \\\\\n",
    "\\end{bmatrix}$ \n",
    "\n",
    "$\\text{Tr}(A^\\dagger B) = 0 + 0 = 0$ \n",
    "\n",
    "$d = 2$ \n",
    "\n",
    "$\\text{Tr}(A^\\dagger B)/2 = 0/2 = 0$\n",
    "\n",
    "## Normality\n",
    "\n",
    "$A = \\begin{bmatrix}\n",
    "  0 & -i \\\\\n",
    "  i & 0 \\\\\n",
    "\\end{bmatrix} \\qquad\n",
    "A^\\dagger  = \\begin{bmatrix}\n",
    "  0 & -i \\\\\n",
    "  i &  0 \\\\\n",
    "\\end{bmatrix}$\n",
    "\n",
    "$A^\\dagger  A = \\begin{bmatrix}\n",
    "  0 & -i \\\\\n",
    "  i & 0 \\\\\n",
    "\\end{bmatrix}\\begin{bmatrix}\n",
    "  0 & -i \\\\\n",
    "  i & 0 \\\\\n",
    "\\end{bmatrix}=\\begin{bmatrix}\n",
    "  -i^2 &  0   \\\\\n",
    "  0    & -i^2 \\\\\n",
    "\\end{bmatrix}$ \n",
    "\n",
    "$\\textsf{tr}(A^\\dagger A) = -i^2 + -i^2 = 2$ \n",
    "\n",
    "$d = 2$ \n",
    "\n",
    "$\\textsf{tr}(A^\\dagger B)/2 = 2/2 = 1$\n",
    "\n"
   ]
  },
  {
   "cell_type": "code",
   "execution_count": 13,
   "metadata": {},
   "outputs": [
    {
     "data": {
      "image/png": "[encoded data removed]",
      "text/latex": [
       "$\\displaystyle \\left[\\begin{matrix}1 & 0 & 0 & 0\\\\0 & 1 & 0 & 0\\\\0 & 0 & 1 & 0\\\\0 & 0 & 0 & 1\\end{matrix}\\right]$"
      ],
      "text/plain": [
       "⎡1  0  0  0⎤\n",
       "⎢          ⎥\n",
       "⎢0  1  0  0⎥\n",
       "⎢          ⎥\n",
       "⎢0  0  1  0⎥\n",
       "⎢          ⎥\n",
       "⎣0  0  0  1⎦"
      ]
     },
     "execution_count": 13,
     "metadata": {},
     "output_type": "execute_result"
    }
   ],
   "source": [
    "# Orthonormal.\n",
    "sp.Matrix([[int(sp.Trace(A * qu.dagger.Dagger(B)).simplify()) // 2 for A in pauli] for B in pauli])"
   ]
  },
  {
   "cell_type": "markdown",
   "metadata": {},
   "source": [
    "## Equivalence\n",
    "\n",
    "Unitary matrix: $U^\\dagger  U = I$.\n",
    "  \n",
    "$\\mathcal{U}(d)$: group of all $d \\times d$ unitary matrices.\n",
    "  \n",
    "$\\mathcal{E}, \\mathcal{E}'$: $d \\times d$ Unitary Error Bases.\n",
    "\n",
    "$\\mathcal{E} \\equiv \\mathcal{E}' \\Leftrightarrow \\exists A, B \\in \\mathcal{U}(d), f:\\mathcal{E} \\rightarrow \\mathbb{C} : \\mathcal{E}' = \\{f(E)AEB \\mid E \\in \\mathcal{E}\\}$"
   ]
  },
  {
   "cell_type": "code",
   "execution_count": null,
   "metadata": {},
   "outputs": [],
   "source": []
  },
  {
   "cell_type": "markdown",
   "metadata": {},
   "source": [
    "\n",
    "## Pauli Basis is Unique\n",
    "*Up to equivalence, the Pauli basis is unique in dimension 2.*\n",
    "\n",
    "Let $\\mathcal{E} = \\\\{E_1, E_2, E_3, E_4 \\\\}$ be a $2 \\times 2$ unitary error basis.\n",
    "\n",
    "Then $E_1^\\dagger  \\mathcal{E} = \\\\{I, E_1^\\dagger  E_2, E_1^\\dagger  E_3, E_1^\\dagger  E_4 \\\\}$ is also a unitary error basis. "
   ]
  },
  {
   "cell_type": "code",
   "execution_count": null,
   "metadata": {},
   "outputs": [],
   "source": []
  },
  {
   "cell_type": "markdown",
   "metadata": {},
   "source": [
    "## Characterization\n",
    "\n",
    "$U$\n",
    ": $d \\times d$ unitary matrix.\n",
    "\n",
    "$E_i(U)$\n",
    ": $\\sqrt{d} (U_{i,nd+m})_{n,m=0,\\ldots,d-1}$\n",
    "\n",
    "$U = \\begin{bmatrix}\n",
    "  0 & -i \\\\\\\\\n",
    "  i & 0 \\\\\\\\\n",
    "\\end{bmatrix}$\n",
    "\n",
    "$E_0(U) = \\sqrt{2} \\begin{bmatrix}\n",
    "  U_{0,0} & U_{0,1} \\\\\\\\\n",
    "  U_{0,2} & U_{0,3} \\\\\\\\\n",
    "\\end{bmatrix}$\n",
    "\n",
    "**TODO: Fix above**\n"
   ]
  },
  {
   "cell_type": "code",
   "execution_count": null,
   "metadata": {},
   "outputs": [],
   "source": []
  },
  {
   "cell_type": "markdown",
   "metadata": {},
   "source": [
    "## Nice Unitary Error Bases\n",
    "\n",
    "https://people.engr.tamu.edu/andreas-klappenecker/ueb/uebdef.html\n",
    "\n",
    "$G$: finite group.\n",
    "\n",
    "$|G| = n^2, n \\in \\mathbb{N}$.\n",
    "\n",
    "### Nice error basis\n",
    "\n",
    "Image of $D: G \\rightarrow \\mathcal{U}(n)$ where:\n",
    "\n",
    "- $D(1_G) = I_n$\n",
    "- $\\textsf{tr}(D(g)) = 0$ for all $g \\neq 1_G$.\n",
    "- $D(g)D(h) = c D(gh)$ where $c \\in \\mathbb{C}$ and $|c| = 1$.\n",
    "\n",
    "### Generators\n",
    "\n",
    "$X$: set of generators for $G$.\n",
    "\n",
    "$H$: matrix group generated by $D(X) = \\\\\\{ D(x) | x \\in X \\\\\\}$.\n",
    "\n",
    "$Z(H) = \\\\\\{ x | x \\in H, \\forall h \\in H : x h = hx \\\\\\}$.\n",
    "\n",
    "Traversal: set of coset representatives of cosets of a subgroup.\n",
    "\n",
    "Nice error basis is constructed as a traversal of $Z(H)$ in $H$.\n",
    "\n",
    "\n",
    "## Example\n",
    "\n",
    "https://people.engr.tamu.edu/andreas-klappenecker/ueb/uebex.html\n",
    "\n",
    "### Klein Four-Group\n",
    "\n",
    "#### Generators\n",
    "\n",
    "$x = \\begin{bmatrix} 1 & 0 \\\\\\\\ 0 & -1 \\end{bmatrix}$\n",
    "\n",
    "$y = \\begin{bmatrix} -1 & 0 \\\\\\\\ 0 & 1 \\end{bmatrix}$\n",
    "\n",
    "#### Group\n",
    "\n",
    "$x = \\begin{bmatrix} 1 & 0 \\\\\\\\ 0 & -1 \\end{bmatrix}$\n",
    "\n",
    "$x^2 = \\begin{bmatrix} 1 & 0 \\\\\\\\ 0 & -1 \\end{bmatrix}\\begin{bmatrix} 1 & 0 \\\\\\\\ 0 & -1 \\end{bmatrix} = \\begin{bmatrix} 1 & 0 \\\\\\\\ 0 & 1 \\end{bmatrix} = I$\n",
    "\n",
    "$y = \\begin{bmatrix} -1 & 0 \\\\\\\\ 0 & 1 \\end{bmatrix}$\n",
    "\n",
    "$y^2 = \\begin{bmatrix} -1 & 0 \\\\\\\\ 0 & 1 \\end{bmatrix}\\begin{bmatrix} -1 & 0 \\\\\\\\ 0 & 1 \\end{bmatrix} = \\begin{bmatrix} 1 & 0 \\\\\\\\ 0 & 1 \\end{bmatrix} = I$\n",
    "\n",
    "$xy = \\begin{bmatrix} 1 & 0 \\\\\\\\ 0 & -1 \\end{bmatrix}\\begin{bmatrix} -1 & 0 \\\\\\\\ 0 & 1 \\end{bmatrix} = \\begin{bmatrix} -1 & 0 \\\\\\\\ 0 & -1 \\end{bmatrix}$\n",
    "\n",
    "$xyx = \\begin{bmatrix} -1 & 0 \\\\\\\\ 0 & -1 \\end{bmatrix}\\begin{bmatrix} 1 & 0 \\\\\\\\ 0 & -1 \\end{bmatrix} = \\begin{bmatrix} -1 & 0 \\\\\\\\ 0 & 1 \\end{bmatrix} = y$\n",
    "\n",
    "$(xy)^2 = y^2 = I$\n",
    "\n",
    "$xyy = x(y^2) = xI = x$\n",
    "\n",
    "$yx = \\begin{bmatrix} -1 & 0 \\\\\\\\ 0 & 1 \\end{bmatrix}\\begin{bmatrix} 1 & 0 \\\\\\\\ 0 & -1 \\end{bmatrix} = \\begin{bmatrix} -1 & 0 \\\\\\\\ 0 & -1 \\end{bmatrix} = xy$\n",
    "\n",
    "$G = \\\\\\{ I, x, y, xy \\\\\\}$\n",
    "\n",
    "$G = \\langle x, y \\\\; | \\\\; x^2, y^2, (xy)^2 \\rangle$\n",
    "\n",
    "https://en.wikipedia.org/wiki/Klein_four-group\n",
    "\n",
    "#### Centre\n",
    "\n",
    "$Z(G) = \\\\\\{ z \\in G \\\\; | \\\\; \\forall g \\in G : gz = zg  \\\\\\}$\n",
    "\n",
    "$ xy \\neq yx $\n",
    "\n",
    "$ \\Rightarrow Z(G) = \\\\\\{ I, x, y, xy \\\\\\} $\n",
    "\n",
    "### Group of Order 8\n",
    "\n",
    "#### Generators\n",
    "\n",
    "$x = \\begin{bmatrix} 1 & 0 \\\\\\\\ 0 & -1 \\end{bmatrix}$\n",
    "\n",
    "$y = \\begin{bmatrix} 0 & 1 \\\\\\\\ 1 & 0 \\end{bmatrix}$\n",
    "\n",
    "#### Group\n",
    "\n",
    "$x = \\begin{bmatrix} 1 & 0 \\\\\\\\ 0 & -1 \\end{bmatrix}$\n",
    "\n",
    "$x^2 = \\begin{bmatrix} 1 & 0 \\\\\\\\ 0 & -1 \\end{bmatrix}\\begin{bmatrix} 1 & 0 \\\\\\\\ 0 & -1 \\end{bmatrix} = \\begin{bmatrix} 1 & 0 \\\\\\\\ 0 & 1 \\end{bmatrix} = I$\n",
    "\n",
    "$y = \\begin{bmatrix} 0 & 1 \\\\\\\\ 1 & 0 \\end{bmatrix}$\n",
    "\n",
    "$y^2 = \\begin{bmatrix} 0 & 1 \\\\\\\\ 1 & 0 \\end{bmatrix}\\begin{bmatrix} 0 & 1 \\\\\\\\ 1 & 0 \\end{bmatrix} = \\begin{bmatrix} 1 & 0 \\\\\\\\ 0 & 1 \\end{bmatrix} = x^2$\n",
    "\n",
    "$xy = \\begin{bmatrix} 1 & 0 \\\\\\\\ 0 & -1 \\end{bmatrix}\\begin{bmatrix} 0 & 1 \\\\\\\\ 1 & 0 \\end{bmatrix} = \\begin{bmatrix} 0 & 1 \\\\\\\\ -1 & 0 \\end{bmatrix}$\n",
    "\n",
    "$xyx = \\begin{bmatrix} 0 & 1 \\\\\\\\ -1 & 0 \\end{bmatrix}\\begin{bmatrix} 1 & 0 \\\\\\\\ 0 & -1 \\end{bmatrix} = \\begin{bmatrix} 0 & -1 \\\\\\\\ -1 & 0 \\end{bmatrix} = -y$\n",
    "\n",
    "$xyxy = \\begin{bmatrix} 0 & 1 \\\\\\\\ -1 & 0 \\end{bmatrix}\\begin{bmatrix} 0 & 1 \\\\\\\\ -1 & 0 \\end{bmatrix} = \\begin{bmatrix} -1 & 0 \\\\\\\\ 0 & -1 \\end{bmatrix} = -I$\n",
    "\n",
    "$xyxyx = \\begin{bmatrix} -1 & 0 \\\\\\\\ 0 & -1 \\end{bmatrix}\\begin{bmatrix} 1 & 0 \\\\\\\\ 0 & -1 \\end{bmatrix} = \\begin{bmatrix} -1 & 0 \\\\\\\\ 0 & 1 \\end{bmatrix} = -x$\n",
    "\n",
    "$xyxyxy = \\begin{bmatrix} -1 & 0 \\\\\\\\ 0 & 1 \\end{bmatrix}\\begin{bmatrix} 0 & 1 \\\\\\\\ 1 & 0 \\end{bmatrix} = \\begin{bmatrix} 0 & -1 \\\\\\\\ 1 & 0 \\end{bmatrix} = -xy$\n",
    "\n",
    "$xyxyxyx = \\begin{bmatrix} 0 & -1 \\\\\\\\ 1 & 0 \\end{bmatrix}\\begin{bmatrix} 1 & 0 \\\\\\\\ 0 & -1 \\end{bmatrix} = \\begin{bmatrix} 0 & 1 \\\\\\\\ 1 & 0 \\end{bmatrix} = y$\n",
    "\n",
    "\n",
    "$yx = \\begin{bmatrix} 0 & 1 \\\\\\\\ 1 & 0 \\end{bmatrix}\\begin{bmatrix} 1 & 0 \\\\\\\\ 0 & -1 \\end{bmatrix} = \\begin{bmatrix} 0 & -1 \\\\\\\\ 1 & 0 \\end{bmatrix} = -xy$\n",
    "\n",
    "$yxy = (-xy)y = -x(y^2) = -x$\n",
    "\n",
    "$G = \\\\\\{ I, x, y, xy, -I, -x, -y, -xy \\\\\\}$\n",
    "\n",
    "$G = \\langle x, y \\\\; | \\\\; x^2, y^2, (xy)^4 \\rangle$\n",
    "\n",
    "\n",
    "#### Table\n",
    "\n",
    "$\n",
    "\\begin{array}{c|cccccccc}\n",
    "      & I   & x   & y   & xy  & -I  & -x  & -y  & -xy \\\\\\\\ \\hline\n",
    "  I   & I   & x   & y   & xy  & -I  & -x  & -y  & -xy \\\\\\\\\n",
    "  x   & x   & I   & xy  & y   & -x  & -I  & -xy & -y  \\\\\\\\\n",
    "  y   & y   & -xy & I   & -x  & -y  & xy  & -I  & x   \\\\\\\\\n",
    "  xy  & xy  & -y  & x   & -I  & -xy & y   & -x  & I   \\\\\\\\\n",
    "  -I  & -I  & -x  & -y  & -xy & I   & x   & y   & xy  \\\\\\\\\n",
    "  -x  & -x  & -I  & -xy & -y  & x   & I   & xy  & y   \\\\\\\\\n",
    "  -y  & -y  & xy  & -I  & x   & y   & -xy & I   & -x  \\\\\\\\\n",
    "  -xy & -xy & y   & -x  & I   & xy  & -y  & x   & -I  \\\\\\\\\n",
    "\\end{array}\n",
    "$\n",
    "\n",
    "##### Isomorphism \n",
    "\n",
    "$I \\leftrightarrow e$\n",
    "\n",
    "$xy \\leftrightarrow b$\n",
    "\n",
    "$\\Rightarrow -I \\leftrightarrow b^2$\n",
    "\n",
    "$\\Rightarrow -xy \\leftrightarrow b^3$\n",
    "\n",
    "$\\Rightarrow b^4 \\leftrightarrow e $\n",
    "\n",
    "$x \\leftrightarrow a$\n",
    "\n",
    "$\\Rightarrow a^2 = e$\n",
    "\n",
    "$\\Rightarrow ab \\leftrightarrow x^2y = y$\n",
    "\n",
    "$\\Rightarrow y \\leftrightarrow ab$\n",
    "\n",
    "$ba\\leftrightarrow xyx = -y$\n",
    "\n",
    "$ab^3 \\leftrightarrow x(-xy) = -x^2y = -y \\leftrightarrow ba$\n",
    "\n",
    "$\\Rightarrow -y \\leftrightarrow ab^3 = ba$\n",
    "\n",
    "$\\Rightarrow -x \\leftrightarrow ab^2$\n",
    "\n",
    "$\n",
    "\\begin{array}{c|cccccccc}\n",
    "       & e    & b    & b^2  & b^3  & a    & ab   & ab^2 & ab^3 \\\\\\\\ \\hline\n",
    "  e    & e    & b    & b^2  & b^3  & a    & ab   & ab^2 & ab^3 \\\\\\\\\n",
    "  b    & b    & e    & b^3  & b^2  & ab^3 & a    & ab   & ab^2 \\\\\\\\\n",
    "  b^2  & b^2  & b^3  & e    & b    & ab^2 & ab^3 & a    & ab   \\\\\\\\\n",
    "  b^3  & b^3  & b^2  & b    & e    & ab   & ab^2 & ab^3 & a    \\\\\\\\\n",
    "  a    & a    & ab   & ab^2 & ab^3 & e    & b    & b^2  & b^3  \\\\\\\\\n",
    "  ab   & ab   & ab^2 & ab^3 & a    & b^3  & e    & b    & b^2  \\\\\\\\\n",
    "  ab^2 & ab^2 & ab^3 & a    & ab   & b^2  & b^3  & e    & b    \\\\\\\\\n",
    "  ab^3 & ab^3 & a    & ab   & ab^2 & b    & b^2  & b^3  & e    \\\\\\\\\n",
    "\\end{array}\n",
    "$\n",
    "\n",
    "https://groupprops.subwiki.org/wiki/Dihedral_group:D8\n",
    "\n",
    "#### Centre\n",
    "\n",
    "$Z(G) = \\\\\\{ z \\in G \\\\; | \\\\; \\forall g \\in G : gz = zg  \\\\\\}$\n",
    "\n",
    "$ ab \\neq ba $\n",
    "\n",
    "$ \\Rightarrow Z(G) = \\\\\\{ e, b^2 \\\\\\} $\n",
    "\n",
    "\n",
    "## Traversal\n",
    "\n",
    "https://proofwiki.org/wiki/Definition:Transversal_(Group_Theory)\n",
    "\n",
    "A subset $S \\subseteq G$ where every (left/right) coset contains exactly one element of $S$.\n",
    "\n",
    "\n",
    "## Nice Error Basis\n",
    "\n",
    "Traversal of centre of $H$.\n",
    "\n",
    "### Centre\n",
    "\n",
    "$\\\\{ I, -I \\\\}$\n",
    "\n",
    "#### Cosets\n",
    "\n",
    "$\\\\{ I, -I \\\\}$\n",
    "$\\\\{ x, -x \\\\}$\n",
    "$\\\\{ y, -y \\\\}$\n",
    "$\\\\{ xy, -xy \\\\}$\n",
    "\n",
    "#### Traversal\n",
    "\n",
    "$\\\\{ I, x, y, xy \\\\}$\n",
    "\n",
    "## Knill\n",
    "[*Group Representations, Error Bases and Quantum Codes*](https://www.osti.gov/biblio/378680)<br>\n",
    "[Emanuel Knill](https://dblp.org/pid/30/858.html)<br>\n",
    "[https://www.osti.gov/biblio/378680](https://www.osti.gov/biblio/378680)<br>\n"
   ]
  },
  {
   "cell_type": "code",
   "execution_count": null,
   "metadata": {},
   "outputs": [],
   "source": []
  },
  {
   "cell_type": "code",
   "execution_count": null,
   "metadata": {},
   "outputs": [],
   "source": []
  },
  {
   "cell_type": "code",
   "execution_count": null,
   "metadata": {},
   "outputs": [],
   "source": []
  }
 ],
 "metadata": {
  "kernelspec": {
   "display_name": "base",
   "language": "python",
   "name": "python3"
  },
  "language_info": {
   "codemirror_mode": {
    "name": "ipython",
    "version": 3
   },
   "file_extension": ".py",
   "mimetype": "text/x-python",
   "name": "python",
   "nbconvert_exporter": "python",
   "pygments_lexer": "ipython3",
   "version": "3.12.1"
  }
 },
 "nbformat": 4,
 "nbformat_minor": 2
}
